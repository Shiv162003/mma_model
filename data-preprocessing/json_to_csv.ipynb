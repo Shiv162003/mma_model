{
 "cells": [
  {
   "cell_type": "code",
   "execution_count": 8,
   "id": "f5c1a7c2",
   "metadata": {},
   "outputs": [],
   "source": [
    "import pandas as pd\n",
    "\n",
    "# Specify the path to your JSON file\n",
    "json_file_path = 'dataset.json'\n",
    "\n"
   ]
  },
  {
   "cell_type": "code",
   "execution_count": 9,
   "id": "465c715b",
   "metadata": {},
   "outputs": [],
   "source": [
    "from pandas import json_normalize\n",
    "\n",
    "data = json.load(open(json_file_path))\n",
    "data_frame = json_normalize(data)  # Normalize nested JSON data\n"
   ]
  },
  {
   "cell_type": "code",
   "execution_count": 10,
   "id": "7622d40b",
   "metadata": {},
   "outputs": [
    {
     "name": "stdout",
     "output_type": "stream",
     "text": [
      "  1179055004553900032_twitter.post_id  \\\n",
      "0         1179055004553900032_twitter   \n",
      "\n",
      "              1179055004553900032_twitter.annotators  \\\n",
      "0  [{'label': 'normal', 'annotator_id': 1, 'targe...   \n",
      "\n",
      "  1179055004553900032_twitter.rationales  \\\n",
      "0                                     []   \n",
      "\n",
      "             1179055004553900032_twitter.post_tokens  \\\n",
      "0  [i, dont, think, im, getting, my, baby, them, ...   \n",
      "\n",
      "  1179063826874032128_twitter.post_id  \\\n",
      "0         1179063826874032128_twitter   \n",
      "\n",
      "              1179063826874032128_twitter.annotators  \\\n",
      "0  [{'label': 'normal', 'annotator_id': 1, 'targe...   \n",
      "\n",
      "  1179063826874032128_twitter.rationales  \\\n",
      "0                                     []   \n",
      "\n",
      "             1179063826874032128_twitter.post_tokens  \\\n",
      "0  [we, cannot, continue, calling, ourselves, fem...   \n",
      "\n",
      "  1178793830532956161_twitter.post_id  \\\n",
      "0         1178793830532956161_twitter   \n",
      "\n",
      "              1178793830532956161_twitter.annotators  ...  \\\n",
      "0  [{'label': 'normal', 'annotator_id': 4, 'targe...  ...   \n",
      "\n",
      "  9991681_gab.rationales                            9991681_gab.post_tokens  \\\n",
      "0                     []  [was, macht, der, moslem, wenn, der, zion, geg...   \n",
      "\n",
      "  9992513_gab.post_id                             9992513_gab.annotators  \\\n",
      "0         9992513_gab  [{'label': 'hatespeech', 'annotator_id': 209, ...   \n",
      "\n",
      "                              9992513_gab.rationales  \\\n",
      "0  [[0, 0, 0, 0, 0, 0, 0, 1, 1, 1, 1, 0, 0, 1, 1,...   \n",
      "\n",
      "                             9992513_gab.post_tokens 9998729_gab.post_id  \\\n",
      "0  [it, is, awful, look, at, world, demographics,...         9998729_gab   \n",
      "\n",
      "                              9998729_gab.annotators  \\\n",
      "0  [{'label': 'hatespeech', 'annotator_id': 200, ...   \n",
      "\n",
      "                              9998729_gab.rationales  \\\n",
      "0  [[0, 0, 0, 0, 0, 0, 0, 0, 1, 1, 1, 1, 1, 0, 0,...   \n",
      "\n",
      "                             9998729_gab.post_tokens  \n",
      "0  [the, jewish, globalist, elite, have, only, im...  \n",
      "\n",
      "[1 rows x 80592 columns]\n"
     ]
    }
   ],
   "source": [
    "print(data_frame.head())"
   ]
  },
  {
   "cell_type": "code",
   "execution_count": 11,
   "id": "58078f7d",
   "metadata": {},
   "outputs": [],
   "source": [
    "import pandas as pd\n",
    "import json\n",
    "\n",
    "# Load the JSON data\n",
    "with open('dataset.json', 'r') as json_file:\n",
    "    data = json.load(json_file)\n",
    "\n",
    "# Initialize empty lists to store data\n",
    "rows = []\n",
    "\n",
    "# Iterate through the JSON data and extract relevant information\n",
    "for key, value in data.items():\n",
    "    post_id = key\n",
    "    post_tokens = value.get('post_tokens', [])\n",
    "    labels = [annotator['label'] for annotator in value.get('annotators', [])]\n",
    "    \n",
    "    rows.append({\n",
    "        'post_id': post_id,\n",
    "        'post_tokens': ' '.join(post_tokens),\n",
    "        'labels': ' '.join(labels)\n",
    "    })\n",
    "\n",
    "# Create a DataFrame from the collected data\n",
    "data_frame = pd.DataFrame(rows)\n",
    "\n",
    "# Export the DataFrame to CSV\n",
    "data_frame.to_csv('output.csv', index=False)\n"
   ]
  },
  {
   "cell_type": "code",
   "execution_count": null,
   "id": "84e5900d",
   "metadata": {},
   "outputs": [],
   "source": []
  }
 ],
 "metadata": {
  "kernelspec": {
   "display_name": "Python 3 (ipykernel)",
   "language": "python",
   "name": "python3"
  },
  "language_info": {
   "codemirror_mode": {
    "name": "ipython",
    "version": 3
   },
   "file_extension": ".py",
   "mimetype": "text/x-python",
   "name": "python",
   "nbconvert_exporter": "python",
   "pygments_lexer": "ipython3",
   "version": "3.9.13"
  }
 },
 "nbformat": 4,
 "nbformat_minor": 5
}
